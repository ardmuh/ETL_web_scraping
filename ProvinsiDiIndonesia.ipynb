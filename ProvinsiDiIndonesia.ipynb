{
 "cells": [
  {
   "cell_type": "markdown",
   "metadata": {},
   "source": [
    "# ETL Project (Web Scarping)\n",
    "\n",
    "### Extract"
   ]
  },
  {
   "cell_type": "code",
   "execution_count": 6,
   "metadata": {},
   "outputs": [],
   "source": [
    "#import library yang dibutuhkan\n",
    "import requests #untuk akses url\n",
    "import pandas as pd #untuk membuat DataFrame\n",
    "from bs4 import BeautifulSoup #untuk scraping HTML\n",
    "from sqlalchemy import create_engine #untuk akses database"
   ]
  },
  {
   "cell_type": "code",
   "execution_count": 7,
   "metadata": {},
   "outputs": [],
   "source": [
    "# akses ke HTML\n",
    "page = requests.get('https://id.wikipedia.org/wiki/Provinsi_di_Indonesia')\n",
    "soup = BeautifulSoup(page.content, 'html.parser')\n",
    "\n",
    "#scraping semua element HTML dengan tag 'table' dan class 'wikitable sortable'\n",
    "table = soup.find('table', {'class':'wikitable sortable'})"
   ]
  },
  {
   "cell_type": "code",
   "execution_count": 39,
   "metadata": {},
   "outputs": [],
   "source": [
    "#scraping semua element HTML dengan tag 'tr' di dalam tag 'table'\n",
    "tr = table.find_all('tr')\n",
    "\n",
    "#list kosong untuk menyimpan data\n",
    "data = []\n",
    "\n",
    "for i in range(2, len(tr)):\n",
    "    tr_i = tr[i]\n",
    "    th = tr_i.find_all('th') #scraping semua element HTML dengan tag 'th' di dalam tag 'tr'\n",
    "    td = tr_i.find_all('td') #scraping semua element HTML dengan tag 'td' di dalam tag 'tr'\n",
    "    cell ={}\n",
    "    for j in range(len(th)):\n",
    "        cell['nama_provinsi'] = th[1].text.replace('\\n','')\n",
    "    for k in range(len(td)):\n",
    "        if k == 2:\n",
    "            cell['kode_wilayah'] =td[k].text.replace('\\n','')\n",
    "        elif k == 4:\n",
    "            cell['ibu_kota'] =td[k].text.split('[')[0].replace('\\n','')\n",
    "        elif k == 6:\n",
    "            cell['hari_jadi'] =td[k].text.split('[')[0].replace('\\n','')\n",
    "        elif k == 8:\n",
    "            cell['populasi_per2020'] =td[k].text.replace('\\n','')\n",
    "        elif k == 9:\n",
    "            cell['luas_per2020_km2'] =td[k].text.split('[')[0].replace('\\n','')\n",
    "        elif k == 10:\n",
    "            cell['kepadatan_penduduk_per2020'] =td[k].text.replace('\\n','')\n",
    "        elif k == 11:\n",
    "            cell['ipm_per2020'] =td[k].text.replace('\\n','')\n",
    "    data.append(cell)"
   ]
  },
  {
   "cell_type": "code",
   "execution_count": 114,
   "metadata": {},
   "outputs": [
    {
     "data": {
      "text/html": [
       "<div>\n",
       "<style scoped>\n",
       "    .dataframe tbody tr th:only-of-type {\n",
       "        vertical-align: middle;\n",
       "    }\n",
       "\n",
       "    .dataframe tbody tr th {\n",
       "        vertical-align: top;\n",
       "    }\n",
       "\n",
       "    .dataframe thead th {\n",
       "        text-align: right;\n",
       "    }\n",
       "</style>\n",
       "<table border=\"1\" class=\"dataframe\">\n",
       "  <thead>\n",
       "    <tr style=\"text-align: right;\">\n",
       "      <th></th>\n",
       "      <th>nama_provinsi</th>\n",
       "      <th>kode_wilayah</th>\n",
       "      <th>ibu_kota</th>\n",
       "      <th>hari_jadi</th>\n",
       "      <th>populasi_per2020</th>\n",
       "      <th>luas_per2020_km2</th>\n",
       "      <th>kepadatan_penduduk_per2020</th>\n",
       "      <th>ipm_per2020</th>\n",
       "    </tr>\n",
       "  </thead>\n",
       "  <tbody>\n",
       "    <tr>\n",
       "      <th>0</th>\n",
       "      <td>Aceh</td>\n",
       "      <td>11</td>\n",
       "      <td>Banda Aceh</td>\n",
       "      <td>Tidak ada</td>\n",
       "      <td>5.274.871</td>\n",
       "      <td>56.839,09</td>\n",
       "      <td>91,02</td>\n",
       "      <td>71,99</td>\n",
       "    </tr>\n",
       "    <tr>\n",
       "      <th>1</th>\n",
       "      <td>Sumatra Utara</td>\n",
       "      <td>12</td>\n",
       "      <td>Medan</td>\n",
       "      <td>15 April 1948</td>\n",
       "      <td>14.799.361</td>\n",
       "      <td>72.460,61</td>\n",
       "      <td>202,78</td>\n",
       "      <td>71,77</td>\n",
       "    </tr>\n",
       "    <tr>\n",
       "      <th>2</th>\n",
       "      <td>Sumatra Barat</td>\n",
       "      <td>13</td>\n",
       "      <td>Padang</td>\n",
       "      <td>1 Oktober 1945</td>\n",
       "      <td>5.534.472</td>\n",
       "      <td>42.137,70</td>\n",
       "      <td>131,73</td>\n",
       "      <td>72,38</td>\n",
       "    </tr>\n",
       "    <tr>\n",
       "      <th>3</th>\n",
       "      <td>Riau</td>\n",
       "      <td>14</td>\n",
       "      <td>Pekanbaru</td>\n",
       "      <td>9 Agustus 1957</td>\n",
       "      <td>6.394.087</td>\n",
       "      <td>89.935,90</td>\n",
       "      <td>73,48</td>\n",
       "      <td>72,71</td>\n",
       "    </tr>\n",
       "    <tr>\n",
       "      <th>4</th>\n",
       "      <td>Kepulauan Riau</td>\n",
       "      <td>21</td>\n",
       "      <td>Tanjungpinang</td>\n",
       "      <td>24 September 2002</td>\n",
       "      <td>2.064.564</td>\n",
       "      <td>8.273,87</td>\n",
       "      <td>251,72</td>\n",
       "      <td>75,59</td>\n",
       "    </tr>\n",
       "  </tbody>\n",
       "</table>\n",
       "</div>"
      ],
      "text/plain": [
       "    nama_provinsi kode_wilayah       ibu_kota          hari_jadi  \\\n",
       "0            Aceh           11     Banda Aceh          Tidak ada   \n",
       "1   Sumatra Utara           12          Medan      15 April 1948   \n",
       "2   Sumatra Barat           13         Padang     1 Oktober 1945   \n",
       "3            Riau           14      Pekanbaru     9 Agustus 1957   \n",
       "4  Kepulauan Riau           21  Tanjungpinang  24 September 2002   \n",
       "\n",
       "  populasi_per2020 luas_per2020_km2 kepadatan_penduduk_per2020 ipm_per2020  \n",
       "0        5.274.871        56.839,09                      91,02       71,99  \n",
       "1       14.799.361        72.460,61                     202,78       71,77  \n",
       "2        5.534.472        42.137,70                     131,73       72,38  \n",
       "3        6.394.087        89.935,90                      73,48       72,71  \n",
       "4        2.064.564         8.273,87                     251,72       75,59  "
      ]
     },
     "execution_count": 114,
     "metadata": {},
     "output_type": "execute_result"
    }
   ],
   "source": [
    "#buat dataframe dari list data\n",
    "df = pd.DataFrame(data)\n",
    "df.head() #menampilkan 5 data teratas"
   ]
  },
  {
   "cell_type": "markdown",
   "metadata": {},
   "source": [
    "### Transform"
   ]
  },
  {
   "cell_type": "code",
   "execution_count": 115,
   "metadata": {},
   "outputs": [
    {
     "name": "stdout",
     "output_type": "stream",
     "text": [
      "<class 'pandas.core.frame.DataFrame'>\n",
      "RangeIndex: 37 entries, 0 to 36\n",
      "Data columns (total 8 columns):\n",
      " #   Column                      Non-Null Count  Dtype \n",
      "---  ------                      --------------  ----- \n",
      " 0   nama_provinsi               37 non-null     object\n",
      " 1   kode_wilayah                37 non-null     object\n",
      " 2   ibu_kota                    37 non-null     object\n",
      " 3   hari_jadi                   37 non-null     object\n",
      " 4   populasi_per2020            37 non-null     object\n",
      " 5   luas_per2020_km2            37 non-null     object\n",
      " 6   kepadatan_penduduk_per2020  37 non-null     object\n",
      " 7   ipm_per2020                 37 non-null     object\n",
      "dtypes: object(8)\n",
      "memory usage: 2.4+ KB\n"
     ]
    }
   ],
   "source": [
    "df.info() #untuk menampilkan informasi data"
   ]
  },
  {
   "cell_type": "code",
   "execution_count": 116,
   "metadata": {},
   "outputs": [
    {
     "name": "stderr",
     "output_type": "stream",
     "text": [
      "C:\\Users\\bnmo\\AppData\\Local\\Temp\\ipykernel_16408\\3172423521.py:2: FutureWarning: The default value of regex will change from True to False in a future version. In addition, single character regular expressions will *not* be treated as literal strings when regex=True.\n",
      "  df['populasi_per2020'] = pd.to_numeric(df['populasi_per2020'].str.replace('.',''), errors='coerce', downcast='signed')\n"
     ]
    }
   ],
   "source": [
    "#transform type data object ke integer\n",
    "df['populasi_per2020'] = pd.to_numeric(df['populasi_per2020'].str.replace('.',''), errors='coerce', downcast='signed')"
   ]
  },
  {
   "cell_type": "code",
   "execution_count": 117,
   "metadata": {},
   "outputs": [],
   "source": [
    "#transform type data object ke float\n",
    "df['luas_per2020_km2'] = pd.to_numeric(df['luas_per2020_km2'].str.translate(str.maketrans({'.':'',',':''})),errors='coerce')/100\n"
   ]
  },
  {
   "cell_type": "code",
   "execution_count": 118,
   "metadata": {},
   "outputs": [],
   "source": [
    "df['kepadatan_penduduk_per2020'] = pd.to_numeric(df['kepadatan_penduduk_per2020'].str.translate(str.maketrans({'.':'',',':''})),errors='coerce')/100"
   ]
  },
  {
   "cell_type": "code",
   "execution_count": 119,
   "metadata": {},
   "outputs": [],
   "source": [
    "df['ipm_per2020'] = pd.to_numeric(df['ipm_per2020'].str.replace(',',''),errors='coerce')/100"
   ]
  },
  {
   "cell_type": "code",
   "execution_count": 120,
   "metadata": {},
   "outputs": [
    {
     "name": "stdout",
     "output_type": "stream",
     "text": [
      "<class 'pandas.core.frame.DataFrame'>\n",
      "RangeIndex: 37 entries, 0 to 36\n",
      "Data columns (total 8 columns):\n",
      " #   Column                      Non-Null Count  Dtype  \n",
      "---  ------                      --------------  -----  \n",
      " 0   nama_provinsi               37 non-null     object \n",
      " 1   kode_wilayah                37 non-null     object \n",
      " 2   ibu_kota                    37 non-null     object \n",
      " 3   hari_jadi                   37 non-null     object \n",
      " 4   populasi_per2020            34 non-null     float64\n",
      " 5   luas_per2020_km2            37 non-null     float64\n",
      " 6   kepadatan_penduduk_per2020  34 non-null     float64\n",
      " 7   ipm_per2020                 34 non-null     float64\n",
      "dtypes: float64(4), object(4)\n",
      "memory usage: 2.4+ KB\n"
     ]
    }
   ],
   "source": [
    "df.info()"
   ]
  },
  {
   "cell_type": "code",
   "execution_count": 122,
   "metadata": {},
   "outputs": [
    {
     "data": {
      "text/html": [
       "<div>\n",
       "<style scoped>\n",
       "    .dataframe tbody tr th:only-of-type {\n",
       "        vertical-align: middle;\n",
       "    }\n",
       "\n",
       "    .dataframe tbody tr th {\n",
       "        vertical-align: top;\n",
       "    }\n",
       "\n",
       "    .dataframe thead th {\n",
       "        text-align: right;\n",
       "    }\n",
       "</style>\n",
       "<table border=\"1\" class=\"dataframe\">\n",
       "  <thead>\n",
       "    <tr style=\"text-align: right;\">\n",
       "      <th></th>\n",
       "      <th>count</th>\n",
       "      <th>mean</th>\n",
       "      <th>std</th>\n",
       "      <th>min</th>\n",
       "      <th>25%</th>\n",
       "      <th>50%</th>\n",
       "      <th>75%</th>\n",
       "      <th>max</th>\n",
       "    </tr>\n",
       "  </thead>\n",
       "  <tbody>\n",
       "    <tr>\n",
       "      <th>populasi_per2020</th>\n",
       "      <td>34.0</td>\n",
       "      <td>7.954250e+06</td>\n",
       "      <td>1.129407e+07</td>\n",
       "      <td>701814.00</td>\n",
       "      <td>2.203904e+06</td>\n",
       "      <td>4188645.500</td>\n",
       "      <td>7.949096e+06</td>\n",
       "      <td>48274162.00</td>\n",
       "    </tr>\n",
       "    <tr>\n",
       "      <th>luas_per2020_km2</th>\n",
       "      <td>37.0</td>\n",
       "      <td>5.009157e+04</td>\n",
       "      <td>3.877912e+04</td>\n",
       "      <td>661.23</td>\n",
       "      <td>1.967704e+04</td>\n",
       "      <td>45704.160</td>\n",
       "      <td>6.123750e+04</td>\n",
       "      <td>153413.06</td>\n",
       "    </tr>\n",
       "    <tr>\n",
       "      <th>kepadatan_penduduk_per2020</th>\n",
       "      <td>34.0</td>\n",
       "      <td>7.412365e+02</td>\n",
       "      <td>2.709257e+03</td>\n",
       "      <td>9.30</td>\n",
       "      <td>5.344750e+01</td>\n",
       "      <td>102.510</td>\n",
       "      <td>2.580500e+02</td>\n",
       "      <td>15906.52</td>\n",
       "    </tr>\n",
       "    <tr>\n",
       "      <th>ipm_per2020</th>\n",
       "      <td>34.0</td>\n",
       "      <td>7.108088e+01</td>\n",
       "      <td>3.901881e+00</td>\n",
       "      <td>60.44</td>\n",
       "      <td>6.950500e+01</td>\n",
       "      <td>71.425</td>\n",
       "      <td>7.230750e+01</td>\n",
       "      <td>80.77</td>\n",
       "    </tr>\n",
       "  </tbody>\n",
       "</table>\n",
       "</div>"
      ],
      "text/plain": [
       "                            count          mean           std        min  \\\n",
       "populasi_per2020             34.0  7.954250e+06  1.129407e+07  701814.00   \n",
       "luas_per2020_km2             37.0  5.009157e+04  3.877912e+04     661.23   \n",
       "kepadatan_penduduk_per2020   34.0  7.412365e+02  2.709257e+03       9.30   \n",
       "ipm_per2020                  34.0  7.108088e+01  3.901881e+00      60.44   \n",
       "\n",
       "                                     25%          50%           75%  \\\n",
       "populasi_per2020            2.203904e+06  4188645.500  7.949096e+06   \n",
       "luas_per2020_km2            1.967704e+04    45704.160  6.123750e+04   \n",
       "kepadatan_penduduk_per2020  5.344750e+01      102.510  2.580500e+02   \n",
       "ipm_per2020                 6.950500e+01       71.425  7.230750e+01   \n",
       "\n",
       "                                    max  \n",
       "populasi_per2020            48274162.00  \n",
       "luas_per2020_km2              153413.06  \n",
       "kepadatan_penduduk_per2020     15906.52  \n",
       "ipm_per2020                       80.77  "
      ]
     },
     "execution_count": 122,
     "metadata": {},
     "output_type": "execute_result"
    }
   ],
   "source": [
    "df.describe().T"
   ]
  },
  {
   "cell_type": "markdown",
   "metadata": {},
   "source": [
    "### Load"
   ]
  },
  {
   "cell_type": "code",
   "execution_count": 125,
   "metadata": {},
   "outputs": [],
   "source": [
    "#inisiasi database\n",
    "user = 'postgres'\n",
    "password = '0078'\n",
    "host = 'localhost'\n",
    "port = 5432\n",
    "db_name = 'test_db'\n"
   ]
  },
  {
   "cell_type": "code",
   "execution_count": 127,
   "metadata": {},
   "outputs": [
    {
     "data": {
      "text/plain": [
       "37"
      ]
     },
     "execution_count": 127,
     "metadata": {},
     "output_type": "execute_result"
    }
   ],
   "source": [
    "engine = create_engine(f\"postgresql://{user}:{password}@{host}:{port}/{db_name}\")\n",
    "df.to_sql(name='provinsi_db', con=engine, if_exists=\"replace\", index=False)"
   ]
  }
 ],
 "metadata": {
  "kernelspec": {
   "display_name": "Python 3.10.7 64-bit",
   "language": "python",
   "name": "python3"
  },
  "language_info": {
   "codemirror_mode": {
    "name": "ipython",
    "version": 3
   },
   "file_extension": ".py",
   "mimetype": "text/x-python",
   "name": "python",
   "nbconvert_exporter": "python",
   "pygments_lexer": "ipython3",
   "version": "3.10.7"
  },
  "orig_nbformat": 4,
  "vscode": {
   "interpreter": {
    "hash": "26de051ba29f2982a8de78e945f0abaf191376122a1563185a90213a26c5da77"
   }
  }
 },
 "nbformat": 4,
 "nbformat_minor": 2
}
